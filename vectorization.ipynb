{
 "cells": [
  {
   "cell_type": "code",
   "execution_count": 1,
   "metadata": {},
   "outputs": [],
   "source": [
    "from osgeo import gdal, ogr, osr, gdalconst\n",
    "import os\n",
    "import datetime \n",
    "import numpy as np"
   ]
  },
  {
   "cell_type": "code",
   "execution_count": 2,
   "metadata": {},
   "outputs": [
    {
     "name": "stdout",
     "output_type": "stream",
     "text": [
      "Succeeded at 2021-12-16 16:04:03.364347\n",
      "Elapsed Time: 0:00:09.175110\n"
     ]
    }
   ],
   "source": [
    "start_time = datetime.datetime.now()\n",
    "folder = 'Yourfolderpath' \n",
    "os.chdir(folder) #set default path\n",
    "for raster in os.listdir(): #loop for every file\n",
    "    if raster.endswith('tif'):\n",
    "        inraster = gdal.Open(raster)  #read raster\n",
    "        prj = osr.SpatialReference()  \n",
    "        inband = inraster.GetRasterBand(1)  # image band, if it's single band, then it equals 1\n",
    "        prj.ImportFromWkt(inraster.GetProjection())   #read projection for raster\n",
    "\n",
    "        outshp = raster[:-4] + \".shp\" #name the future shp file\n",
    "        drv = ogr.GetDriverByName(\"ESRI Shapefile\")\n",
    "        if os.path.exists(outshp):  #if it exists，delete it and redo.\n",
    "            drv.DeleteDataSource(outshp)\n",
    "        Polygon = drv.CreateDataSource(outshp)  #create a target file\n",
    "        Poly_layer = Polygon.CreateLayer(raster[:-4], srs = prj, geom_type = ogr.wkbLineString) #create a layer for shp file， set linestring\n",
    "        newField = ogr.FieldDefn('value',ogr.OFTReal)  # to store original raster pixel value\n",
    "        Poly_layer.CreateField(newField)\n",
    "\n",
    "        gdal.FPolygonize(inband, None, Poly_layer, 0) #main function for raster to vector\n",
    "        Polygon.SyncToDisk() \n",
    "        Polygon = None\n",
    "end_time = datetime.datetime.now()\n",
    "print (\"Succeeded at\",end_time)\n",
    "print (\"Elapsed Time:\",end_time-start_time)  # print time for execution"
   ]
  },
  {
   "cell_type": "code",
   "execution_count": null,
   "metadata": {},
   "outputs": [],
   "source": []
  }
 ],
 "metadata": {
  "kernelspec": {
   "display_name": "Python 3 (ipykernel)",
   "language": "python",
   "name": "python3"
  },
  "language_info": {
   "codemirror_mode": {
    "name": "ipython",
    "version": 3
   },
   "file_extension": ".py",
   "mimetype": "text/x-python",
   "name": "python",
   "nbconvert_exporter": "python",
   "pygments_lexer": "ipython3",
   "version": "3.9.7"
  },
  "pycharm": {
   "stem_cell": {
    "cell_type": "raw",
    "metadata": {
     "collapsed": false
    },
    "source": []
   }
  }
 },
 "nbformat": 4,
 "nbformat_minor": 1
}
